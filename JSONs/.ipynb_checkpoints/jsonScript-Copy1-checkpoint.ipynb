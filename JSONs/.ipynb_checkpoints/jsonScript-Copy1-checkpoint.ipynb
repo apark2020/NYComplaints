{
 "cells": [
  {
   "cell_type": "code",
   "execution_count": 9,
   "metadata": {},
   "outputs": [],
   "source": [
    "import json\n",
    "import requests\n",
    "date1=['2020-04-28','2020-05-05','2020-05-12','2020-05-19','2020-05-26','2020-06-02','2020-06-09','2020-06-16','2020-06-23']\n",
    "date2=['2020-05-05','2020-05-12','2020-05-19','2020-05-26','2020-06-02','2020-06-09','2020-06-16','2020-06-23','2020-06-30']\n",
    "names=['0428to0504.json','0505to0511.json','0512to0518.json','0519to0525.json','0526to0601.json','0602to0608.json','0609to0615.json','0616to0622.json','0623to0629.json']\n",
    "#complaintsURL = requests.get('https://data.cityofnewyork.us/resource/uip8-fykc.json?$query=SELECT%20PERP_RACE%20WHERE%20(ARREST_PRECINCT=26%20OR%20ARREST_PRECINCT=30)%20AND%20ARREST_DATE>=%27'+date1+'T00:00:00.000%27%20AND%20ARREST_DATE<%27'+date2+'2020-06-24T00:00:00.000%27%20LIMIT%2010000000')\n"
   ]
  },
  {
   "cell_type": "code",
   "execution_count": 10,
   "metadata": {},
   "outputs": [],
   "source": [
    "for i in range(len(date1)):    \n",
    "    arrestURL = requests.get('https://data.cityofnewyork.us/resource/uip8-fykc.json?$query=SELECT%20PERP_RACE%20WHERE%20(ARREST_PRECINCT=26%20OR%20ARREST_PRECINCT=30)%20AND%20ARREST_DATE>=%27'+date1[i]+'T00:00:00.000%27%20AND%20ARREST_DATE<%27'+date2[i]+'2020-06-24T00:00:00.000%27%20LIMIT%2010000000') # (your url)\n",
    "    data = solditems.json()\n",
    "    with open(names[i], 'w') as f:\n",
    "        json.dump(data, f)"
   ]
  },
  {
   "cell_type": "code",
   "execution_count": null,
   "metadata": {},
   "outputs": [],
   "source": []
  }
 ],
 "metadata": {
  "kernelspec": {
   "display_name": "Python 3",
   "language": "python",
   "name": "python3"
  },
  "language_info": {
   "codemirror_mode": {
    "name": "ipython",
    "version": 3
   },
   "file_extension": ".py",
   "mimetype": "text/x-python",
   "name": "python",
   "nbconvert_exporter": "python",
   "pygments_lexer": "ipython3",
   "version": "3.7.3"
  }
 },
 "nbformat": 4,
 "nbformat_minor": 2
}
